{
 "cells": [
  {
   "cell_type": "markdown",
   "id": "4efc775e",
   "metadata": {},
   "source": [
    "# Projeto unicórnio\n",
    "\n",
    "# Um unicórnio é uma startup que possui avaliação de preço de mercado no valor de mais de 1 bilhão de dólares americanos\n",
    "\n",
    "# O objetivo é fazer uma analise e mostrar qual o país que mais gera unicórnio no mundo e a empresa com maior valor.  "
   ]
  },
  {
   "cell_type": "code",
   "execution_count": null,
   "id": "098662b0",
   "metadata": {},
   "outputs": [],
   "source": [
    "# Importar as libs\n",
    "import numpy as np\n",
    "import pandas as pd\n",
    "import matplotlib.pyplot as plt\n",
    "import seaborn as sns\n",
    "\n",
    "import warnings\n",
    "warnings.filterwarnings('ignore')"
   ]
  },
  {
   "cell_type": "code",
   "execution_count": null,
   "id": "c04ee6dd",
   "metadata": {},
   "outputs": [],
   "source": [
    "# Ler dados\n",
    "baseDados = pd.read_csv(r\"D:\\Documentos\\analise de dados python\\Projeto unicornio\\unicorns till sep 2022.csv\")\n",
    "\n",
    "# verificar dimensão\n",
    "baseDados.shape"
   ]
  },
  {
   "cell_type": "code",
   "execution_count": null,
   "id": "5d2e8bdf",
   "metadata": {},
   "outputs": [],
   "source": [
    "# primeiros registros\n",
    "baseDados.head()"
   ]
  },
  {
   "cell_type": "code",
   "execution_count": null,
   "id": "27956235",
   "metadata": {},
   "outputs": [],
   "source": [
    "# verificando colunas\n",
    "baseDados.columns"
   ]
  },
  {
   "cell_type": "code",
   "execution_count": null,
   "id": "8db226a9",
   "metadata": {},
   "outputs": [],
   "source": [
    "# renomeando colunas\n",
    "baseDados.rename(columns={\n",
    "    'Unnamed: 0' : 'Id',\n",
    "    'Company' : 'Empresa',\n",
    "    'Valuation ($B)' : 'Valor ($)',\n",
    "    'Date Joined' : 'Data de Adesão',\n",
    "    'Country' : 'País',\n",
    "    'City' : 'Cidade',\n",
    "    'Industry': 'Setor',\n",
    "    'Investors': 'Investidores',\n",
    "}, inplace=True )"
   ]
  },
  {
   "cell_type": "code",
   "execution_count": null,
   "id": "3289c615",
   "metadata": {},
   "outputs": [],
   "source": [
    "# Verificar tipo da informação de cada coluna\n",
    "baseDados.info()"
   ]
  },
  {
   "cell_type": "code",
   "execution_count": null,
   "id": "76909801",
   "metadata": {},
   "outputs": [],
   "source": [
    "# verificando existem de campos nulos\n",
    "baseDados.isnull().sum()"
   ]
  },
  {
   "cell_type": "code",
   "execution_count": null,
   "id": "5a2047dc",
   "metadata": {},
   "outputs": [],
   "source": [
    "# também podemos analisar os campos nulos com visão gráfica\n",
    "\n",
    "plt.figure( figsize=(15,6)) # Definindo tamanho da imagem\\gráfico\n",
    "plt.title('Analisando Campos nulos') # titulo do grafico\n",
    "sns.heatmap( baseDados.isnull(), cbar=False); # Trazendo campos nulos // cbar = desligar legenda do lado direito"
   ]
  },
  {
   "cell_type": "code",
   "execution_count": null,
   "id": "87444f43",
   "metadata": {},
   "outputs": [],
   "source": [
    "# Verificando quantidade de valores unicos de cada coluna\n",
    "baseDados.nunique()"
   ]
  },
  {
   "cell_type": "code",
   "execution_count": null,
   "id": "b559667b",
   "metadata": {},
   "outputs": [],
   "source": [
    "# Podemos verificar também os registros unicos da coluna 'setor'\n",
    "baseDados['Setor'].unique()\n",
    "\n",
    "# Sei que existe esses valores repetidos na coluna 'Setor'"
   ]
  },
  {
   "cell_type": "code",
   "execution_count": null,
   "id": "b9531052",
   "metadata": {},
   "outputs": [],
   "source": [
    "# Análise por quantidade de setores - rank\n",
    "baseDados['Setor'].value_counts()\n",
    "\n",
    "# já conseguimos identificar quantos valores iguais existem na coluna 'setor' e que o setor Fintech, Internet software & services estão na frente do ranking"
   ]
  },
  {
   "cell_type": "code",
   "execution_count": null,
   "id": "e2336ac6",
   "metadata": {},
   "outputs": [],
   "source": [
    "# Também podemos trazer a análise de quantidade de setores por '%' - rank\n",
    "baseDados['Setor'].value_counts(normalize=True).map(\"{:.1%}\".format)\n",
    "\n",
    "# já conseguimos identificar que 40% dos setores que atingiram o unicornio são de técnologia"
   ]
  },
  {
   "cell_type": "code",
   "execution_count": null,
   "id": "7510266a",
   "metadata": {},
   "outputs": [],
   "source": [
    "# Fazendo análise gráfica do rank por setor\n",
    "\n",
    "plt.figure(figsize=(15,6)) # tamanho do gráfico\n",
    "plt.title('rank de crescimento por setor') # titulo do gráfico\n",
    "plt.bar(baseDados['Setor'].value_counts().index,baseDados['Setor'].value_counts()) # Criando gráfico ordenado por quantidade\n",
    "plt.xticks( rotation=45, ha='right'); # rotacionando o eixo 'x'\n",
    "\n",
    "# Aqui conseguimos analisar que o setor de 'Fintech' e 'Internet software' estão em 1º e 2º lugar no mundo"
   ]
  },
  {
   "cell_type": "code",
   "execution_count": null,
   "id": "e22906ca",
   "metadata": {},
   "outputs": [],
   "source": [
    "# análise rank por quantidade de paises\n",
    "\n",
    "analise = round(baseDados['País'].value_counts(normalize=True) * 100,1)\n",
    "\n",
    "analise.reset_index()\n",
    "\n",
    "# também podemos ver que estados unidos é o país que mais geram empresas unicornios do mundo e o Brasil se encontra em 9º posição considerando que o index começa com '0' \n"
   ]
  },
  {
   "cell_type": "code",
   "execution_count": null,
   "id": "cff46cec",
   "metadata": {},
   "outputs": [],
   "source": [
    "# Trazendo analise gráfica rank entre o top 5 por paises que atingiram unicornio\n",
    "plt.figure(figsize=(16,6))\n",
    "plt.title('Analise rank por Países - top 5')\n",
    "plt.pie(\n",
    "    analise.head(5),\n",
    "    labels = analise.index[0:5],\n",
    "    shadow = True,\n",
    "    startangle=90,\n",
    "    autopct='%.f%%'\n",
    "    );\n",
    "\n",
    "# claramente dá para ver que 'United States' está em 1º lugar e consome maior parte do mundo   "
   ]
  },
  {
   "cell_type": "code",
   "execution_count": null,
   "id": "032c60e7",
   "metadata": {},
   "outputs": [],
   "source": [
    "# Vamos fazer uma analise de empresas que mais faturaram valor por por ano, para isso temos que alterar o \n",
    "# tipo dado da coluna 'data de adesão'\n",
    "\n",
    "# Convertendo coluna de data para datetime\n",
    "baseDados['Data de Adesão'] = pd.to_datetime(baseDados['Data de Adesão'])\n",
    "\n",
    "baseDados['Data de Adesão'].head()"
   ]
  },
  {
   "cell_type": "code",
   "execution_count": null,
   "id": "d05c582d",
   "metadata": {},
   "outputs": [],
   "source": [
    "# Agora vamos extrair o mes e ano para fazer nossa analise\n",
    "\n",
    "# criando coluna 'Mês e Ano' para extrair o mês e ano da coluna 'Data de Adesão'\n",
    "baseDados['Mês'] = pd.DatetimeIndex(baseDados['Data de Adesão']).month\n",
    "baseDados['Ano'] = pd.DatetimeIndex(baseDados['Data de Adesão']).year\n",
    "\n",
    "baseDados.head()"
   ]
  },
  {
   "cell_type": "code",
   "execution_count": null,
   "id": "226de721",
   "metadata": {},
   "outputs": [],
   "source": [
    "# tabela análitica - Agrupando dados\n",
    "analiseAgrupada = baseDados.groupby( by=['País', 'Ano', 'Mês', 'Empresa',] ).count().reset_index()\n",
    "\n",
    "# Já podemos visualizar o país o ano e a empresa por grupo \n",
    "analiseAgrupada"
   ]
  },
  {
   "cell_type": "code",
   "execution_count": null,
   "id": "9a559728",
   "metadata": {},
   "outputs": [],
   "source": [
    "# localizando Brazil e as empresas que atingiram unicórnio \n",
    "\n",
    "# Precisamos mostrar o grupo de empresas apenas do Brasil \n",
    "analiseAgrupada.loc[\n",
    "    analiseAgrupada['País'] == 'Brazil'\n",
    "    ]\n",
    "\n",
    "# Analisando essa tabela, se exerga o ano e a empresa que conseguiu atingir o unicornio."
   ]
  },
  {
   "cell_type": "code",
   "execution_count": null,
   "id": "326850e4",
   "metadata": {},
   "outputs": [],
   "source": [
    "# Desejo fazer uma analise pelo valor que a empresa faturou, porém, a coluna de valores está com '$' vamos ter que tratar ela primeiro\n",
    "\n",
    "baseDados['Valor ($)'] = pd.to_numeric(baseDados['Valor ($)'].apply( lambda linha: linha.replace('$','')))\n",
    "\n",
    "# imprimindo para ver se a alteração deu certo e a mudança do tipo da coluna.\n",
    "baseDados['Valor ($)'].head()"
   ]
  },
  {
   "cell_type": "code",
   "execution_count": null,
   "id": "ebad5739",
   "metadata": {},
   "outputs": [],
   "source": [
    "# analise de pais por lucro em ordem crescente\n",
    "analisePais = baseDados.groupby( by=['País']).sum()['Valor ($)'].reset_index() # agrupando dados por pais e somando valores\n",
    "\n",
    "analiseValor = analisePais.sort_values('Valor ($)', ascending = False) # Guardando em uma variavel o agrupamento e ordenando em ordem crescente\n",
    "\n",
    "analiseValor\n",
    "\n",
    "# podemos ver claramente que o páis em 1º lugar é 'United States' e o 'Brasil' se encontra em 7º\n",
    "\n",
    "# isso é interessante. Em questões de valores o Brasil se encontra em 7º considerando o index que começa sempre em '0' \n",
    "# já em questões de quantidade de empresa atingindo unicornio o Brasil é o 9º "
   ]
  },
  {
   "cell_type": "code",
   "execution_count": null,
   "id": "b43650ff",
   "metadata": {},
   "outputs": [],
   "source": [
    "# analise de pais por valor gráfico\n",
    "\n",
    "plt.figure(figsize=(15,6))\n",
    "plt.title('Analise de países por valor')\n",
    "plt.plot(\n",
    "    analiseValor['País'],\n",
    "    analiseValor['Valor ($)'],\n",
    "    )\n",
    "plt.xticks(rotation = 45, ha='right');\n",
    "\n",
    "# E novamente em uma visualização mais legivel, percebemos em um gráfico qual país se encotra com maior faturamente atingido do uniconio "
   ]
  },
  {
   "cell_type": "code",
   "execution_count": null,
   "id": "fed18798",
   "metadata": {},
   "outputs": [],
   "source": []
  }
 ],
 "metadata": {
  "kernelspec": {
   "display_name": "Python 3 (ipykernel)",
   "language": "python",
   "name": "python3"
  },
  "language_info": {
   "codemirror_mode": {
    "name": "ipython",
    "version": 3
   },
   "file_extension": ".py",
   "mimetype": "text/x-python",
   "name": "python",
   "nbconvert_exporter": "python",
   "pygments_lexer": "ipython3",
   "version": "3.9.12"
  }
 },
 "nbformat": 4,
 "nbformat_minor": 5
}
